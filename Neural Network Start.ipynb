{
 "cells": [
  {
   "cell_type": "markdown",
   "metadata": {},
   "source": [
    "#Inputs (for example temperature, pressure, humidity...)\n",
    "inputs = [1,2,3,2.5]\n",
    "\n",
    "#Weights and baises are control points which will be later fine tuned to get a robust neural network\n",
    "weights = [0.1,-0.5,0.7,0.14]\n",
    "bais = 2"
   ]
  },
  {
   "cell_type": "markdown",
   "metadata": {},
   "source": [
    "# One neuron mapping  X = Summation (Inputs*Neuron_Weigths) + Neuron Bias\n",
    "x = inputs[0]*weights[0] +inputs[0]*weights[0]+inputs[0]*weights[0]+ 2 "
   ]
  },
  {
   "cell_type": "markdown",
   "metadata": {},
   "source": [
    "x"
   ]
  },
  {
   "cell_type": "code",
   "execution_count": 2,
   "metadata": {},
   "outputs": [],
   "source": [
    "# Mapping 3 neurons requires 3 weight list coz each has 4 connections with each of the inpust. \n",
    "# Furthermore, each neuron has a bais\n",
    "\n",
    "#Inputs are features from a sample (for example temperature, pressure, humidity...)\n",
    "inputs = [1,2,3,2.5]\n",
    "\n",
    "# Weights and Baises for 3 Neurons\n",
    "weights = [[0.2, 0.8,-0.5,1], \n",
    "           [0.5,-0.91,0.26,-0.5],\n",
    "           [-0.26,-0.27,0.17,0.87]]\n",
    "baises = [2,3,0.5]\n",
    "\n",
    "m = 0\n",
    "i = 0\n",
    "j = 0\n",
    "layer_output = []\n",
    "d = []\n",
    "for  i in range(len(baises)):\n",
    "    for j in range(len(inputs)):\n",
    "        m = m + (weights[i][j])*(inputs[j])\n",
    "    m = m + baises[i]\n",
    "    layer_output.append(m)\n",
    "    m = 0\n",
    "    \n"
   ]
  },
  {
   "cell_type": "code",
   "execution_count": 3,
   "metadata": {},
   "outputs": [
    {
     "data": {
      "text/plain": [
       "[4.8, 1.21, 2.385]"
      ]
     },
     "execution_count": 3,
     "metadata": {},
     "output_type": "execute_result"
    }
   ],
   "source": [
    "layer_output"
   ]
  },
  {
   "cell_type": "code",
   "execution_count": 4,
   "metadata": {},
   "outputs": [
    {
     "data": {
      "text/plain": [
       "0.26"
      ]
     },
     "execution_count": 4,
     "metadata": {},
     "output_type": "execute_result"
    }
   ],
   "source": [
    "weights[1][2]"
   ]
  },
  {
   "cell_type": "code",
   "execution_count": 6,
   "metadata": {},
   "outputs": [],
   "source": [
    "import numpy as np\n",
    "#Dot Products\n",
    "output = np.dot(weights, inputs) + baises"
   ]
  },
  {
   "cell_type": "code",
   "execution_count": 8,
   "metadata": {},
   "outputs": [
    {
     "data": {
      "text/plain": [
       "array([4.8  , 1.21 , 2.385])"
      ]
     },
     "execution_count": 8,
     "metadata": {},
     "output_type": "execute_result"
    }
   ],
   "source": [
    "output"
   ]
  },
  {
   "cell_type": "code",
   "execution_count": null,
   "metadata": {},
   "outputs": [],
   "source": [
    "#Batch of Inputs\n"
   ]
  }
 ],
 "metadata": {
  "kernelspec": {
   "display_name": "Python 3",
   "language": "python",
   "name": "python3"
  },
  "language_info": {
   "codemirror_mode": {
    "name": "ipython",
    "version": 3
   },
   "file_extension": ".py",
   "mimetype": "text/x-python",
   "name": "python",
   "nbconvert_exporter": "python",
   "pygments_lexer": "ipython3",
   "version": "3.7.3"
  }
 },
 "nbformat": 4,
 "nbformat_minor": 2
}
