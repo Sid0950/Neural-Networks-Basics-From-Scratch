{
 "cells": [
  {
   "cell_type": "code",
   "execution_count": 4,
   "metadata": {},
   "outputs": [],
   "source": [
    "import numpy as np\n",
    "#Inputs are features from a sample (for example temperature, pressure, humidity...)\n",
    "#Batch of Inputs\n",
    "inputs = [[1,2,3,2.5], [2,5,-1,2],[-1.5,2.7,3.3,-0.8]]\n",
    "\n",
    "# Weights and Baises for 3 Neurons\n",
    "weights = [[0.2, 0.8,-0.5,1], \n",
    "           [0.5,-0.91,0.26,-0.5],\n",
    "           [-0.26,-0.27,0.17,0.87]]\n",
    "baises = [2,3,0.5]"
   ]
  },
  {
   "cell_type": "code",
   "execution_count": 5,
   "metadata": {},
   "outputs": [
    {
     "data": {
      "text/plain": [
       "array([[ 4.8  ,  1.21 ,  2.385],\n",
       "       [ 8.9  , -1.81 ,  0.2  ],\n",
       "       [ 1.41 ,  1.051,  0.026]])"
      ]
     },
     "execution_count": 5,
     "metadata": {},
     "output_type": "execute_result"
    }
   ],
   "source": [
    "#Dot Products\n",
    "layer_output1 = np.dot(inputs, np.array(weights).T) + baises\n",
    "layer_output1"
   ]
  },
  {
   "cell_type": "code",
   "execution_count": 7,
   "metadata": {},
   "outputs": [
    {
     "data": {
      "text/plain": [
       "array([[ 0.5031 , -1.04185, -2.03875],\n",
       "       [ 0.2434 , -2.7332 , -5.7633 ],\n",
       "       [-0.99314,  1.41254, -0.35655]])"
      ]
     },
     "execution_count": 7,
     "metadata": {},
     "output_type": "execute_result"
    }
   ],
   "source": [
    "#Two Layers\n",
    "# Weights and Baises for 3 Neurons\n",
    "weights2 = [[0.1, -0.14,0.5], \n",
    "           [-0.5,0.12,-0.33],\n",
    "           [-0.44,0.73,-0.13]]\n",
    "baises2 = [-1,2,-0.5]\n",
    "\n",
    "#Layer 2\n",
    "layer_output2 = np.dot(layer_output1, np.array(weights2).T) + baises2\n",
    "layer_output2"
   ]
  },
  {
   "cell_type": "code",
   "execution_count": null,
   "metadata": {},
   "outputs": [],
   "source": []
  }
 ],
 "metadata": {
  "kernelspec": {
   "display_name": "Python 3",
   "language": "python",
   "name": "python3"
  },
  "language_info": {
   "codemirror_mode": {
    "name": "ipython",
    "version": 3
   },
   "file_extension": ".py",
   "mimetype": "text/x-python",
   "name": "python",
   "nbconvert_exporter": "python",
   "pygments_lexer": "ipython3",
   "version": "3.7.3"
  }
 },
 "nbformat": 4,
 "nbformat_minor": 2
}
