{
 "cells": [
  {
   "cell_type": "code",
   "execution_count": 1,
   "metadata": {},
   "outputs": [],
   "source": [
    "import numpy as np\n",
    "import matplotlib.pyplot as plt\n",
    "from nnfs.datasets import spiral_data\n",
    "\n",
    "#nnfs.init()\n",
    "\n",
    "#X = [[1,2,3,2.5],[2,5,-1,2],[-1.5,2.7,3.3,-0.8]]\n",
    "X, y = spiral_data(samples = 100, classes = 3)\n",
    "\n",
    "class layer_dense:\n",
    "    def __init__(self, n_inputs, n_neuro):\n",
    "        # Note weights is Inputs x Neurons to avoid Transpose OP\n",
    "        self.weights = 0.1*np.random.randn(n_inputs, n_neuro)\n",
    "        self.biases = np.zeros((1,n_neuro))\n",
    "        \n",
    "    def forward(self, inputs):\n",
    "        self.output = np.dot(inputs,self.weights) + self.biases\n",
    "        \n",
    "        \n",
    "# ReLU Activation Function      \n",
    "class Activation_ReLU:\n",
    "    def forward (self, inputs):\n",
    "        self.output = np.maximum(0,inputs)\n",
    "        \n",
    "# Softmax Activation Function\n",
    "\n",
    "class Activation_Softmax:\n",
    "    def forward(self, inputs):\n",
    "        exp_values = np.exp(inputs - np.max(inputs, axis=1, keepdims = True))\n",
    "        probabilities = exp_values/ np.sum(exp_values, axis=1, keepdims=True)\n",
    "        self.output = probabilities\n",
    "        \n",
    "\n",
    "# Layers and Activation    \n",
    "layer1 = layer_dense(2,3)\n",
    "activation1 = Activation_ReLU()\n",
    "\n",
    "layer2 = layer_dense(3,3)\n",
    "activation2 = Activation_Softmax()\n",
    "\n",
    "# Using ReLU \n",
    "layer1.forward(X)\n",
    "activation1.forward(layer1.output)\n",
    "\n",
    "#Using Softmax\n",
    "layer2.forward(activation1.output)\n",
    "activation2.forward(layer2.output)\n"
   ]
  },
  {
   "cell_type": "code",
   "execution_count": 2,
   "metadata": {},
   "outputs": [
    {
     "data": {
      "text/plain": [
       "array([[0.        , 0.        , 0.        ],\n",
       "       [0.        , 0.        , 0.00064984]])"
      ]
     },
     "execution_count": 2,
     "metadata": {},
     "output_type": "execute_result"
    }
   ],
   "source": [
    "activation1.output[:2]"
   ]
  },
  {
   "cell_type": "code",
   "execution_count": null,
   "metadata": {},
   "outputs": [],
   "source": []
  }
 ],
 "metadata": {
  "kernelspec": {
   "display_name": "Python 3",
   "language": "python",
   "name": "python3"
  },
  "language_info": {
   "codemirror_mode": {
    "name": "ipython",
    "version": 3
   },
   "file_extension": ".py",
   "mimetype": "text/x-python",
   "name": "python",
   "nbconvert_exporter": "python",
   "pygments_lexer": "ipython3",
   "version": "3.7.3"
  }
 },
 "nbformat": 4,
 "nbformat_minor": 2
}
